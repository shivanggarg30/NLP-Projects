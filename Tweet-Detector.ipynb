{
 "cells": [
  {
   "cell_type": "code",
   "execution_count": 1,
   "id": "b0cf3acc-6f76-4acc-9053-b17c5778a925",
   "metadata": {},
   "outputs": [],
   "source": [
    "import pandas as pd\n",
    "import numpy as np\n",
    "import re\n",
    "import nltk\n",
    "from nltk.corpus import stopwords\n",
    "from sklearn.feature_extraction.text import TfidfVectorizer\n",
    "from sklearn.model_selection import train_test_split\n",
    "from sklearn.linear_model import LogisticRegression\n",
    "from sklearn.metrics import accuracy_score, confusion_matrix, classification_report\n",
    "import matplotlib.pyplot as plt\n",
    "import seaborn as sns"
   ]
  },
  {
   "cell_type": "code",
   "execution_count": 2,
   "id": "22422e35-0a49-46eb-bc4c-443424932d18",
   "metadata": {},
   "outputs": [],
   "source": [
    "col_names = ['text', 'emotion']\n",
    "df_train = pd.read_csv('train.txt', sep=';', header=None, names=col_names)\n",
    "df_val = pd.read_csv('val.txt', sep=';', header=None, names=col_names)\n",
    "df_test = pd.read_csv('test.txt', sep=';', header=None, names=col_names)"
   ]
  },
  {
   "cell_type": "code",
   "execution_count": 4,
   "id": "018d17fe-ea65-4140-8227-e3c2412c3709",
   "metadata": {},
   "outputs": [],
   "source": [
    "df = pd.concat([df_train, df_val, df_test], ignore_index=True)"
   ]
  },
  {
   "cell_type": "code",
   "execution_count": 5,
   "id": "70b2044a-44b2-40d4-9116-b8943fd40985",
   "metadata": {},
   "outputs": [
    {
     "name": "stdout",
     "output_type": "stream",
     "text": [
      "Dataset loaded successfully. Shape of the combined data: (20000, 2)\n",
      "\n",
      "First 5 rows of the dataset:\n",
      "                                                text  emotion\n",
      "0                            i didnt feel humiliated  sadness\n",
      "1  i can go from feeling so hopeless to so damned...  sadness\n",
      "2   im grabbing a minute to post i feel greedy wrong    anger\n",
      "3  i am ever feeling nostalgic about the fireplac...     love\n",
      "4                               i am feeling grouchy    anger\n",
      "\n",
      "Emotion distribution:\n",
      "emotion\n",
      "joy         6761\n",
      "sadness     5797\n",
      "anger       2709\n",
      "fear        2373\n",
      "love        1641\n",
      "surprise     719\n",
      "Name: count, dtype: int64\n"
     ]
    }
   ],
   "source": [
    "print(\"Dataset loaded successfully. Shape of the combined data:\", df.shape)\n",
    "print(\"\\nFirst 5 rows of the dataset:\")\n",
    "print(df.head())\n",
    "print(\"\\nEmotion distribution:\")\n",
    "print(df['emotion'].value_counts())"
   ]
  },
  {
   "cell_type": "code",
   "execution_count": 6,
   "id": "5a5c40c5-7c27-49d0-9d6c-d80dc46cc557",
   "metadata": {},
   "outputs": [
    {
     "name": "stderr",
     "output_type": "stream",
     "text": [
      "[nltk_data] Downloading package stopwords to\n",
      "[nltk_data]     C:\\Users\\shiva\\AppData\\Roaming\\nltk_data...\n",
      "[nltk_data]   Unzipping corpora\\stopwords.zip.\n"
     ]
    }
   ],
   "source": [
    "\n",
    "# --- 2. Preprocess Tweets ---\n",
    "# Download stopwords from NLTK\n",
    "try:\n",
    "    stop_words = set(stopwords.words('english'))\n",
    "except LookupError:\n",
    "    nltk.download('stopwords')\n",
    "    stop_words = set(stopwords.words('english'))\n",
    "\n",
    "def preprocess_text(text):\n",
    "    # Convert to lowercase\n",
    "    text = text.lower()\n",
    "    # Remove URLs\n",
    "    text = re.sub(r'http\\S+|www\\S+|https\\S+', '', text, flags=re.MULTILINE)\n",
    "    # Remove user mentions (@username)\n",
    "    text = re.sub(r'\\@\\w+', '', text)\n",
    "    # Remove hashtags (#)\n",
    "    text = re.sub(r'#', '', text)\n",
    "    # Remove punctuation\n",
    "    text = re.sub(r'[^\\w\\s]', '', text)\n",
    "    # Remove stopwords\n",
    "    text_tokens = text.split()\n",
    "    filtered_words = [word for word in text_tokens if word not in stop_words]\n",
    "    \n",
    "    return \" \".join(filtered_words)"
   ]
  },
  {
   "cell_type": "code",
   "execution_count": 7,
   "id": "a35015fb-2fc7-4d26-a4db-34313e6ad41a",
   "metadata": {},
   "outputs": [
    {
     "name": "stdout",
     "output_type": "stream",
     "text": [
      "\n",
      "Preprocessing text data...\n",
      "Preprocessing complete.\n",
      "\n",
      "Example of original vs. cleaned text:\n",
      "Original: i didnt feel humiliated\n",
      "Cleaned:  didnt feel humiliated\n"
     ]
    }
   ],
   "source": [
    "# Apply the preprocessing function to the 'text' column\n",
    "print(\"\\nPreprocessing text data...\")\n",
    "df['cleaned_text'] = df['text'].apply(preprocess_text)\n",
    "print(\"Preprocessing complete.\")\n",
    "print(\"\\nExample of original vs. cleaned text:\")\n",
    "print(\"Original:\", df['text'].iloc[0])\n",
    "print(\"Cleaned: \", df['cleaned_text'].iloc[0])"
   ]
  },
  {
   "cell_type": "code",
   "execution_count": 8,
   "id": "04635c54-2de6-4d4b-99b4-51825111e6d0",
   "metadata": {},
   "outputs": [],
   "source": [
    "# Separate features (X) and target (y)\n",
    "X = df['cleaned_text']\n",
    "y = df['emotion']"
   ]
  },
  {
   "cell_type": "code",
   "execution_count": 9,
   "id": "cf730de6-bea5-481c-82b6-41d835fe8dd8",
   "metadata": {},
   "outputs": [],
   "source": [
    "# Initialize the TF-IDF Vectorizer\n",
    "# max_features is set to 5000 to use the top 5000 words as features\n",
    "tfidf_vectorizer = TfidfVectorizer(max_features=5000)"
   ]
  },
  {
   "cell_type": "code",
   "execution_count": 10,
   "id": "a7baca1f-56ee-43d2-ab82-610df4c58a98",
   "metadata": {},
   "outputs": [],
   "source": [
    "# For simplicity, we'll do a standard 80/20 random split on the combined data.\n",
    "X_train, X_test, y_train, y_test = train_test_split(X, y, test_size=0.2, random_state=42, stratify=y)"
   ]
  },
  {
   "cell_type": "code",
   "execution_count": 11,
   "id": "c44f7090-c5e7-406a-9631-5510a06e8b29",
   "metadata": {},
   "outputs": [],
   "source": [
    "X_train_tfidf = tfidf_vectorizer.fit_transform(X_train)\n",
    "X_test_tfidf = tfidf_vectorizer.transform(X_test)"
   ]
  },
  {
   "cell_type": "code",
   "execution_count": 12,
   "id": "a74e0b85-bede-4095-81e6-0eb7f0b81e3f",
   "metadata": {},
   "outputs": [
    {
     "name": "stdout",
     "output_type": "stream",
     "text": [
      "\n",
      "Text representation complete. Shape of TF-IDF matrices:\n",
      "Train: (16000, 5000)\n",
      "Test: (4000, 5000)\n"
     ]
    }
   ],
   "source": [
    "print(f\"\\nText representation complete. Shape of TF-IDF matrices:\")\n",
    "print(\"Train:\", X_train_tfidf.shape)\n",
    "print(\"Test:\", X_test_tfidf.shape)"
   ]
  },
  {
   "cell_type": "code",
   "execution_count": 13,
   "id": "a2e49c7f-2525-43eb-8f17-c3e33fe2e8bc",
   "metadata": {},
   "outputs": [
    {
     "name": "stdout",
     "output_type": "stream",
     "text": [
      "\n",
      "Training the Logistic Regression model...\n",
      "Model training complete.\n"
     ]
    }
   ],
   "source": [
    "# --- 4. Train a Logistic Regression Model ---\n",
    "# Logistic Regression is a robust and interpretable model for classification.\n",
    "\n",
    "print(\"\\nTraining the Logistic Regression model...\")\n",
    "model = LogisticRegression(max_iter=1000, random_state=42)\n",
    "model.fit(X_train_tfidf, y_train)\n",
    "print(\"Model training complete.\")"
   ]
  },
  {
   "cell_type": "code",
   "execution_count": 15,
   "id": "b878c2fd-c85b-49ae-bb80-2dd480c92adf",
   "metadata": {},
   "outputs": [
    {
     "name": "stdout",
     "output_type": "stream",
     "text": [
      "\n",
      "Evaluating the model...\n",
      "Model Accuracy: 87.80%\n",
      "\n",
      "Classification Report:\n",
      "              precision    recall  f1-score   support\n",
      "\n",
      "       anger       0.89      0.80      0.85       542\n",
      "        fear       0.88      0.80      0.84       475\n",
      "         joy       0.86      0.96      0.91      1352\n",
      "        love       0.87      0.70      0.77       328\n",
      "     sadness       0.89      0.94      0.91      1159\n",
      "    surprise       0.88      0.58      0.70       144\n",
      "\n",
      "    accuracy                           0.88      4000\n",
      "   macro avg       0.88      0.80      0.83      4000\n",
      "weighted avg       0.88      0.88      0.87      4000\n",
      "\n"
     ]
    }
   ],
   "source": [
    "# --- 5. Evaluate the Model ---\n",
    "# We will evaluate the model's performance on the unseen test data.\n",
    "\n",
    "print(\"\\nEvaluating the model...\")\n",
    "# Make predictions on the test set\n",
    "y_pred = model.predict(X_test_tfidf)\n",
    "\n",
    "# Calculate accuracy\n",
    "accuracy = accuracy_score(y_test, y_pred)\n",
    "print(f\"Model Accuracy: {accuracy * 100:.2f}%\")\n",
    "\n",
    "# Print the classification report\n",
    "print(\"\\nClassification Report:\")\n",
    "print(classification_report(y_test, y_pred))"
   ]
  },
  {
   "cell_type": "code",
   "execution_count": 16,
   "id": "d95a824f-b012-4d6b-9f8f-8cfcaad0f426",
   "metadata": {},
   "outputs": [
    {
     "data": {
      "image/png": "[encoded data removed]",
      "text/plain": [
       "<Figure size 1000x800 with 2 Axes>"
      ]
     },
     "metadata": {},
     "output_type": "display_data"
    }
   ],
   "source": [
    "# Generate the confusion matrix\n",
    "cm = confusion_matrix(y_test, y_pred)\n",
    "emotion_labels = sorted(y.unique())\n",
    "\n",
    "# Plot the confusion matrix as a heatmap\n",
    "plt.figure(figsize=(10, 8))\n",
    "sns.heatmap(cm, annot=True, fmt='d', cmap='Blues',\n",
    "            xticklabels=emotion_labels, yticklabels=emotion_labels)\n",
    "plt.title('Confusion Matrix Heatmap')\n",
    "plt.xlabel('Predicted Emotion')\n",
    "plt.ylabel('Actual Emotion')\n",
    "plt.show()"
   ]
  },
  {
   "cell_type": "code",
   "execution_count": null,
   "id": "9edfcbe4-d421-4145-9c9e-5658dff03934",
   "metadata": {},
   "outputs": [],
   "source": []
  }
 ],
 "metadata": {
  "kernelspec": {
   "display_name": "Python (TweetEnv)",
   "language": "python",
   "name": "venv-tweet"
  },
  "language_info": {
   "codemirror_mode": {
    "name": "ipython",
    "version": 3
   },
   "file_extension": ".py",
   "mimetype": "text/x-python",
   "name": "python",
   "nbconvert_exporter": "python",
   "pygments_lexer": "ipython3",
   "version": "3.12.6"
  }
 },
 "nbformat": 4,
 "nbformat_minor": 5
}
